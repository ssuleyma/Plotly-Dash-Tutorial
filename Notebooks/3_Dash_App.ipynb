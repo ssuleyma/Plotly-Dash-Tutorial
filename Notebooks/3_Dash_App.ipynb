{
 "cells": [
  {
   "cell_type": "markdown",
   "id": "unnecessary-neighborhood",
   "metadata": {},
   "source": [
    "## 1. Libraries"
   ]
  },
  {
   "cell_type": "code",
   "execution_count": 1,
   "id": "resistant-differential",
   "metadata": {},
   "outputs": [],
   "source": [
    "import numpy as np\n",
    "import pandas as pd\n",
    "\n",
    "import dash\n",
    "import dash_core_components as dcc\n",
    "import dash_html_components as html\n",
    "from dash.dependencies import Input, Output, State\n",
    "\n",
    "import plotly.graph_objects as go\n",
    "import plotly.offline as pyo"
   ]
  },
  {
   "cell_type": "code",
   "execution_count": 5,
   "id": "continental-colon",
   "metadata": {},
   "outputs": [],
   "source": [
    "## Template\n",
    "app = dash.Dash()\n",
    "\n",
    "app.layout = html.Div([\n",
    "    html.Div([]),\n",
    "    html.Div([])\n",
    "], style={})\n",
    "\n",
    "\n",
    "#@app.callback(Output(),\n",
    "#              [Input()],\n",
    "#              [State()])\n",
    "def func():\n",
    "    pass\n",
    "    return \"\"\n",
    "\n",
    "if __name__ == \"__main__\":\n",
    "    pass\n",
    "    #app.run_server()"
   ]
  },
  {
   "cell_type": "markdown",
   "id": "attractive-juice",
   "metadata": {},
   "source": [
    "## 2. Stock Ticker App\n",
    "Resources:\n",
    "- [Guidebook](https://docs.google.com/document/d/1O76ws8azib9Nf6pYlqf_4w8jklBfdRKvh-WwVL1mcmE/edit)\n",
    "- [HTML Components](https://dash.plot.ly/dash-html-components)\n",
    "- [Core Components](https://dash.plot.ly/dash-core-components)\n",
    "- [Markdown](https://dash.plot.ly/dash-core-components/markdown)\n",
    "- [State](https://dash.plot.ly/state)\n",
    "- [Interactive Graphs](https://dash.plot.ly/interactive-graphing)\n",
    "- [Callbacks](https://dash.plot.ly/getting-started-part-2)"
   ]
  },
  {
   "cell_type": "code",
   "execution_count": 13,
   "id": "departmental-count",
   "metadata": {},
   "outputs": [],
   "source": [
    "import pandas_datareader.data as web\n",
    "from datetime import datetime"
   ]
  },
  {
   "cell_type": "code",
   "execution_count": 33,
   "id": "exotic-currency",
   "metadata": {},
   "outputs": [
    {
     "data": {
      "text/html": [
       "<div>\n",
       "<style scoped>\n",
       "    .dataframe tbody tr th:only-of-type {\n",
       "        vertical-align: middle;\n",
       "    }\n",
       "\n",
       "    .dataframe tbody tr th {\n",
       "        vertical-align: top;\n",
       "    }\n",
       "\n",
       "    .dataframe thead th {\n",
       "        text-align: right;\n",
       "    }\n",
       "</style>\n",
       "<table border=\"1\" class=\"dataframe\">\n",
       "  <thead>\n",
       "    <tr style=\"text-align: right;\">\n",
       "      <th></th>\n",
       "      <th>Name</th>\n",
       "      <th>LastSale</th>\n",
       "      <th>MarketCap</th>\n",
       "      <th>IPOyear</th>\n",
       "      <th>Sector</th>\n",
       "      <th>Industry</th>\n",
       "    </tr>\n",
       "    <tr>\n",
       "      <th>Symbol</th>\n",
       "      <th></th>\n",
       "      <th></th>\n",
       "      <th></th>\n",
       "      <th></th>\n",
       "      <th></th>\n",
       "      <th></th>\n",
       "    </tr>\n",
       "  </thead>\n",
       "  <tbody>\n",
       "    <tr>\n",
       "      <th>ABMD</th>\n",
       "      <td>ABIOMED, Inc.</td>\n",
       "      <td>286.22</td>\n",
       "      <td>1.267320e+10</td>\n",
       "      <td>NaN</td>\n",
       "      <td>Health Care</td>\n",
       "      <td>Medical/Dental Instruments</td>\n",
       "    </tr>\n",
       "    <tr>\n",
       "      <th>ATVI</th>\n",
       "      <td>Activision Blizzard, Inc</td>\n",
       "      <td>64.56</td>\n",
       "      <td>4.897726e+10</td>\n",
       "      <td>NaN</td>\n",
       "      <td>Technology</td>\n",
       "      <td>Computer Software: Prepackaged Software</td>\n",
       "    </tr>\n",
       "  </tbody>\n",
       "</table>\n",
       "</div>"
      ],
      "text/plain": [
       "                            Name  LastSale     MarketCap  IPOyear  \\\n",
       "Symbol                                                              \n",
       "ABMD               ABIOMED, Inc.    286.22  1.267320e+10      NaN   \n",
       "ATVI    Activision Blizzard, Inc     64.56  4.897726e+10      NaN   \n",
       "\n",
       "             Sector                                 Industry  \n",
       "Symbol                                                        \n",
       "ABMD    Health Care               Medical/Dental Instruments  \n",
       "ATVI     Technology  Computer Software: Prepackaged Software  "
      ]
     },
     "execution_count": 33,
     "metadata": {},
     "output_type": "execute_result"
    }
   ],
   "source": [
    "nsdq = pd.read_csv(\"../Data/NASDAQcompanylist.csv\")\n",
    "nsdq.set_index(\"Symbol\", inplace=True)\n",
    "nsdq.head(2)"
   ]
  },
  {
   "cell_type": "code",
   "execution_count": 39,
   "id": "experimental-portugal",
   "metadata": {},
   "outputs": [],
   "source": [
    "option = []\n",
    "for tic in nsdq.index:\n",
    "    my_dict = {}\n",
    "    my_dict[\"label\"] = str(nsdq.loc[tic,\"Name\"]) + \" \" + tic\n",
    "    my_dict[\"value\"] = tic\n",
    "    option.append(my_dict)"
   ]
  },
  {
   "cell_type": "code",
   "execution_count": 43,
   "id": "oriented-knight",
   "metadata": {},
   "outputs": [],
   "source": [
    "app = dash.Dash()\n",
    "\n",
    "app.layout = html.Div([\n",
    "    html.H1(\"Stock Ticker Dashboard\"),\n",
    "    html.Div([html.H3(\"Enter a stock symbol\", style={\"paddingRight\":\"30px\"}), \n",
    "              dcc.Dropdown(id=\"my-stock-picker\", \n",
    "                           options=option,value=[\"TSLA\"], \n",
    "                           multi=True)],\n",
    "             style={\"display\":\"inline-block\",\"verticalAlign\":\"top\", \"width\":\"30%\"}),\n",
    "    html.Div([html.H3(\"Enter a start and end date\", style={\"paddingRight\":\"30px\"}),\n",
    "              dcc.DatePickerRange(id=\"my-date-picker\", \n",
    "                                  min_date_allowed=datetime(2017,1,1), \n",
    "                                  max_date_allowed=datetime.today(), \n",
    "                                  start_date=datetime(2019,1,1), \n",
    "                                  end_date=datetime.today())], \n",
    "              style={\"display\":\"inline-block\"}),\n",
    "    html.Div([html.Button(id=\"submit-button\", n_clicks=0, \n",
    "                          children=\"Submit\", \n",
    "                          style={\"fontSize\":24,\"marginLeft\":\"30px\"})],\n",
    "             style={\"display\":\"inline-block\"}),\n",
    "    \n",
    "    html.Div([dcc.Graph(id=\"my-graph\", \n",
    "                        figure={\"data\":[{\"x\":[1,2],\n",
    "                                         \"y\":[3,1]}],\n",
    "                                \"layout\":{\"title\":\"Default Title\"}})])\n",
    "], style={})\n",
    "\n",
    "@app.callback(Output(\"my-graph\",\"figure\"),\n",
    "              [Input(\"submit-button\",\"n_clicks\")],\n",
    "              [State(\"my-stock-picker\",\"value\"), \n",
    "               State(\"my-date-picker\",\"start_date\"), \n",
    "               State(\"my-date-picker\",\"end_date\")])\n",
    "\n",
    "def update_graph(n_clicks,stock_picker, start_date, end_date):\n",
    "    traces = []\n",
    "    start = datetime.strptime(start_date[:10], \"%Y-%m-%d\")\n",
    "    end = datetime.strptime(end_date[:10], \"%Y-%m-%d\")\n",
    "    for tic in stock_picker:\n",
    "        df = web.DataReader(tic, \"iex\", start, end)\n",
    "        traces.append({\"x\":df.index,\"y\":df[\"close\"]})\n",
    "        \n",
    "    fig = {\"data\":traces,\n",
    "           \"layout\":{\"title\":stock_picker}}\n",
    "    return fig\n",
    "\n",
    "if __name__ == \"__main__\":\n",
    "    pass\n",
    "    #app.run_server()"
   ]
  }
 ],
 "metadata": {
  "kernelspec": {
   "display_name": "Python 3",
   "language": "python",
   "name": "python3"
  },
  "language_info": {
   "codemirror_mode": {
    "name": "ipython",
    "version": 3
   },
   "file_extension": ".py",
   "mimetype": "text/x-python",
   "name": "python",
   "nbconvert_exporter": "python",
   "pygments_lexer": "ipython3",
   "version": "3.7.9"
  }
 },
 "nbformat": 4,
 "nbformat_minor": 5
}
